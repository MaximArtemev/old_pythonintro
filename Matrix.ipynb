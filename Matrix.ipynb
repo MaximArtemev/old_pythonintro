{
 "cells": [
  {
   "cell_type": "markdown",
   "metadata": {},
   "source": [
    "### Сегодня мы познакомимся с матрицами\n",
    "\n",
    "###### Матрица  - это таблица разделенная на стобцы и строки. \n",
    "\n",
    "Обычно еще размер записывается как NxM, где N - число строк, M - число столбцов\n",
    "\n",
    "Вот так она выглядит\n",
    "![matrix](http://cs4.pikabu.ru/images/big_size_comm/2014-12_4/14189417864136.png)\n",
    "\n",
    "Конечно, можно сделать ее большой и страшной. Вот такой например:\n",
    "![matrix](http://rfpro.ru/php/formula.php?id=23558)"
   ]
  },
  {
   "cell_type": "code",
   "execution_count": 7,
   "metadata": {
    "collapsed": false
   },
   "outputs": [
    {
     "data": {
      "text/plain": [
       "array([[1, 2, 3],\n",
       "       [4, 5, 6],\n",
       "       [7, 8, 9]])"
      ]
     },
     "execution_count": 7,
     "metadata": {},
     "output_type": "execute_result"
    }
   ],
   "source": [
    "# Покажу как создавать матрицу в python'e\n",
    "# Для начала возьмем полезную библиотеку для работы с матрицами\n",
    "import numpy as np\n",
    "# Можно заполнить матрицу сразу своими числами\n",
    "matrix = np.array([[1,2,3], [4,5,6], [7,8,9]])\n",
    "matrix"
   ]
  },
  {
   "cell_type": "code",
   "execution_count": 16,
   "metadata": {
    "collapsed": false
   },
   "outputs": [
    {
     "data": {
      "text/plain": [
       "array([[ 1.,  1.,  1.],\n",
       "       [ 1.,  1.,  1.],\n",
       "       [ 1.,  1.,  1.]])"
      ]
     },
     "execution_count": 16,
     "metadata": {},
     "output_type": "execute_result"
    }
   ],
   "source": [
    "# Можно использовать заранее подготовленные матрицы\n",
    "# Не забывайте указывать размеры матрицы.\n",
    "np.ones((3,3)) # Создаст матрицу 3x3, заполненную единицами (типа float)"
   ]
  },
  {
   "cell_type": "code",
   "execution_count": 19,
   "metadata": {
    "collapsed": false
   },
   "outputs": [
    {
     "data": {
      "text/plain": [
       "array([[ 0.,  0.,  0.,  0.],\n",
       "       [ 0.,  0.,  0.,  0.],\n",
       "       [ 0.,  0.,  0.,  0.],\n",
       "       [ 0.,  0.,  0.,  0.],\n",
       "       [ 0.,  0.,  0.,  0.]])"
      ]
     },
     "execution_count": 19,
     "metadata": {},
     "output_type": "execute_result"
    }
   ],
   "source": [
    "np.zeros((5,4)) # Создаст матрицу 5x4 заполненную нулями (Тоже дробного типа)"
   ]
  },
  {
   "cell_type": "code",
   "execution_count": 21,
   "metadata": {
    "collapsed": false
   },
   "outputs": [
    {
     "name": "stdout",
     "output_type": "stream",
     "text": [
      "1 2 3 4 5 6 7 8 9 "
     ]
    }
   ],
   "source": [
    "# Теперь пройдем по всем значениям matrix\n",
    "for line in matrix:\n",
    "    for element in line:\n",
    "        print(element, end=' ')"
   ]
  },
  {
   "cell_type": "code",
   "execution_count": 28,
   "metadata": {
    "collapsed": false
   },
   "outputs": [
    {
     "name": "stdout",
     "output_type": "stream",
     "text": [
      "[[ 1  2  3]\n",
      " [ 4  5  6]\n",
      " [ 7 10  9]]\n"
     ]
    }
   ],
   "source": [
    "# Ну и всегда можно вытащить и изменить элемент, если мы знаем его индексы.\n",
    "# Помните, что индексация всегда начинается с нуля\n",
    "matrix[2][1] = 10\n",
    "print(matrix)"
   ]
  },
  {
   "cell_type": "markdown",
   "metadata": {},
   "source": [
    "Теперь перейдем к нашим любимым геномам\n",
    "\n",
    "Пускай у нас есть M штук ДНК строк, в каждой из которых N штук символов. Логично записать это все в матрицу. Тогда получим матрицу размера NxM, где в каждом столбце находится цепочка ДНК.\n",
    "\n",
    "#### Задача 1. \n",
    "Необходимо посчитать число вхождениий символов 'A', 'C', 'G', 'T' в каждую ДНК и записать их в матрицу профиля. В матрице ответа 4 строки, по одной для каждой буквы. То есть выглядит вот так\n",
    "![answer](http://www.imageup.ru/img77/2484361/line.png?nc)\n",
    "\n",
    "#### Входные данные:\n",
    "M строк ДНК длины N\n",
    "\n",
    "#### Вывод:\n",
    "Матрица профиля для этих строк\n"
   ]
  },
  {
   "cell_type": "markdown",
   "metadata": {},
   "source": [
    "#### Задача 2.\n",
    "\n",
    "Чтобы было проще давайте сделаем лист самых частых символов в строке. То есть лист, где на i-том месте будет стоять символ, у которого самое большое значение в i-том столбце матрицы профиля. Назовем его лист решений.\n",
    "![profile](http://www.imageup.ru/img77/2484385/dnk.png?nc)\n",
    "\n",
    "#### Входные данные: \n",
    "Те же\n",
    "\n",
    "#### Вывод:\n",
    "Лист решений\n"
   ]
  },
  {
   "cell_type": "code",
   "execution_count": null,
   "metadata": {
    "collapsed": true
   },
   "outputs": [],
   "source": []
  }
 ],
 "metadata": {
  "kernelspec": {
   "display_name": "Python 3",
   "language": "python",
   "name": "python3"
  },
  "language_info": {
   "codemirror_mode": {
    "name": "ipython",
    "version": 3
   },
   "file_extension": ".py",
   "mimetype": "text/x-python",
   "name": "python",
   "nbconvert_exporter": "python",
   "pygments_lexer": "ipython3",
   "version": "3.5.2"
  }
 },
 "nbformat": 4,
 "nbformat_minor": 0
}
