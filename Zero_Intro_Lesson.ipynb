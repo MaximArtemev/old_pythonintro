{
 "cells": [
  {
   "cell_type": "markdown",
   "metadata": {},
   "source": [
    "# Добро пожаловать в Python"
   ]
  },
  {
   "cell_type": "markdown",
   "metadata": {},
   "source": [
    "## Здесь мы разберем его базовые возможности"
   ]
  },
  {
   "cell_type": "markdown",
   "metadata": {},
   "source": [
    "##### Переменные:"
   ]
  },
  {
   "cell_type": "markdown",
   "metadata": {},
   "source": [
    "В отличии от других языков программирования, вам не нужно описывать тип переменной, которую вы хотите создать.\n",
    "\n",
    "Питон умный парень и поймет все сам"
   ]
  },
  {
   "cell_type": "code",
   "execution_count": 1,
   "metadata": {
    "collapsed": true
   },
   "outputs": [],
   "source": [
    "a = 1\n",
    "b = 2\n",
    "c = 3.3\n",
    "d = ''"
   ]
  },
  {
   "cell_type": "markdown",
   "metadata": {},
   "source": [
    "Здесь а = переменная типа int, целое число.\n",
    "\n",
    "b = переменная типа float, действительное число.\n",
    "\n",
    "с = переменная типа string, строка.\n",
    "\n",
    "Можно переводить **x** в строку с помощью str(**x**), в целое число - int(**x**), в действительное - float(**x**)\n",
    "\n",
    "Строки задаются между кавычками, нет разницы, одиночными или двойными. Кстати, строки тоже можно складывать и умножать."
   ]
  },
  {
   "cell_type": "code",
   "execution_count": 49,
   "metadata": {
    "collapsed": false
   },
   "outputs": [
    {
     "data": {
      "text/plain": [
       "'to the infinity and beyond'"
      ]
     },
     "execution_count": 49,
     "metadata": {},
     "output_type": "execute_result"
    }
   ],
   "source": [
    "string1 = 'to the infinity '\n",
    "string2 = \"and beyond\"\n",
    "\n",
    "string1 + string2"
   ]
  },
  {
   "cell_type": "markdown",
   "metadata": {},
   "source": [
    "### Строки в питоне не поддерживают редактирования. "
   ]
  },
  {
   "cell_type": "code",
   "execution_count": 88,
   "metadata": {
    "collapsed": false
   },
   "outputs": [
    {
     "ename": "TypeError",
     "evalue": "'str' object does not support item assignment",
     "output_type": "error",
     "traceback": [
      "\u001b[1;31m---------------------------------------------------------------------------\u001b[0m",
      "\u001b[1;31mTypeError\u001b[0m                                 Traceback (most recent call last)",
      "\u001b[1;32m<ipython-input-88-d83e40c96815>\u001b[0m in \u001b[0;36m<module>\u001b[1;34m()\u001b[0m\n\u001b[0;32m      1\u001b[0m \u001b[0mstr1\u001b[0m \u001b[1;33m=\u001b[0m \u001b[1;34m'Hello'\u001b[0m\u001b[1;33m\u001b[0m\u001b[0m\n\u001b[1;32m----> 2\u001b[1;33m \u001b[0mstr1\u001b[0m\u001b[1;33m[\u001b[0m\u001b[1;36m0\u001b[0m\u001b[1;33m]\u001b[0m \u001b[1;33m=\u001b[0m \u001b[1;34m'1'\u001b[0m\u001b[1;33m\u001b[0m\u001b[0m\n\u001b[0m",
      "\u001b[1;31mTypeError\u001b[0m: 'str' object does not support item assignment"
     ]
    }
   ],
   "source": [
    "str1 = 'Hello'\n",
    "str1[0] = '1'"
   ]
  },
  {
   "cell_type": "markdown",
   "metadata": {},
   "source": [
    "#### Как видно, строки не редактируются"
   ]
  },
  {
   "cell_type": "markdown",
   "metadata": {},
   "source": [
    "### Математические операторы\n",
    "\n",
    "Я надеюсь, что вы знаете про сложение, умножение, вычитание.\n",
    "\n",
    "Все это выглядит здесь ровно так же так и в жизни\n",
    "\n",
    "Но не забудьте про деление. С ним связано много интересных вещей."
   ]
  },
  {
   "cell_type": "code",
   "execution_count": 11,
   "metadata": {
    "collapsed": false
   },
   "outputs": [],
   "source": [
    "# Вот эта штука - # - символ комментирования. Питончик игнорирует все что стоит после этого знака до конца строки\n",
    "# В дальнейшем я буду так комментировать код"
   ]
  },
  {
   "cell_type": "code",
   "execution_count": 12,
   "metadata": {
    "collapsed": false
   },
   "outputs": [
    {
     "data": {
      "text/plain": [
       "0.5"
      ]
     },
     "execution_count": 12,
     "metadata": {},
     "output_type": "execute_result"
    }
   ],
   "source": [
    "# Деление с остатком\n",
    "a/b"
   ]
  },
  {
   "cell_type": "code",
   "execution_count": 14,
   "metadata": {
    "collapsed": false
   },
   "outputs": [
    {
     "data": {
      "text/plain": [
       "0"
      ]
     },
     "execution_count": 14,
     "metadata": {},
     "output_type": "execute_result"
    }
   ],
   "source": [
    "# Деление нацело. Остаток отбрасывается\n",
    "a//b"
   ]
  },
  {
   "cell_type": "code",
   "execution_count": 17,
   "metadata": {
    "collapsed": false
   },
   "outputs": [
    {
     "data": {
      "text/plain": [
       "1"
      ]
     },
     "execution_count": 17,
     "metadata": {},
     "output_type": "execute_result"
    }
   ],
   "source": [
    "# Остаток от деления\n",
    "a%b"
   ]
  },
  {
   "cell_type": "code",
   "execution_count": 20,
   "metadata": {
    "collapsed": false
   },
   "outputs": [],
   "source": [
    "# Еще есть восхитительные операторы, которые сильно сэкономят ваше время\n",
    "a = a + 1\n",
    "a += 1\n",
    "# Эти две строки делают одно и то же. Эту форму инкремента можно использовать и с умножением:\n",
    "a *= 2\n",
    "# И с делением\n",
    "a /= 2"
   ]
  },
  {
   "cell_type": "code",
   "execution_count": 86,
   "metadata": {
    "collapsed": false
   },
   "outputs": [
    {
     "ename": "TypeError",
     "evalue": "unorderable types: str() > list()",
     "output_type": "error",
     "traceback": [
      "\u001b[1;31m---------------------------------------------------------------------------\u001b[0m",
      "\u001b[1;31mTypeError\u001b[0m                                 Traceback (most recent call last)",
      "\u001b[1;32m<ipython-input-86-cfb24f0e186d>\u001b[0m in \u001b[0;36m<module>\u001b[1;34m()\u001b[0m\n\u001b[0;32m      1\u001b[0m \u001b[1;31m# Не забывайте про операторы сравнения:\u001b[0m\u001b[1;33m\u001b[0m\u001b[1;33m\u001b[0m\u001b[0m\n\u001b[1;32m----> 2\u001b[1;33m \u001b[0ma\u001b[0m \u001b[1;33m>\u001b[0m \u001b[0mb\u001b[0m \u001b[1;31m# Больше\u001b[0m\u001b[1;33m\u001b[0m\u001b[0m\n\u001b[0m\u001b[0;32m      3\u001b[0m \u001b[0ma\u001b[0m \u001b[1;33m<\u001b[0m \u001b[0mb\u001b[0m \u001b[1;31m# Меньше\u001b[0m\u001b[1;33m\u001b[0m\u001b[0m\n\u001b[0;32m      4\u001b[0m \u001b[0ma\u001b[0m \u001b[1;33m==\u001b[0m \u001b[0mb\u001b[0m \u001b[1;31m# Проверка на равенство\u001b[0m\u001b[1;33m\u001b[0m\u001b[0m\n\u001b[0;32m      5\u001b[0m \u001b[0ma\u001b[0m \u001b[1;33m!=\u001b[0m \u001b[0mb\u001b[0m \u001b[1;31m# Проверка на неравенство\u001b[0m\u001b[1;33m\u001b[0m\u001b[0m\n",
      "\u001b[1;31mTypeError\u001b[0m: unorderable types: str() > list()"
     ]
    }
   ],
   "source": [
    "# Не забывайте про операторы сравнения:\n",
    "a > b # Больше\n",
    "a < b # Меньше\n",
    "a == b # Проверка на равенство\n",
    "a != b # Проверка на неравенство\n",
    "a >= b # Больше или равно\n",
    "a <= b # Меньше иили равно"
   ]
  },
  {
   "cell_type": "markdown",
   "metadata": {},
   "source": [
    "Теперь давайте поговорим о степенях:"
   ]
  },
  {
   "cell_type": "code",
   "execution_count": 32,
   "metadata": {
    "collapsed": false
   },
   "outputs": [],
   "source": [
    "# Возведение в степень:\n",
    "a = 2\n",
    "n = 6\n",
    "a = a ** n\n",
    "# Заметьте, мы могли бы использовать восхитительный оператор и написать a **= n, суть бы от этого не изменилась"
   ]
  },
  {
   "cell_type": "markdown",
   "metadata": {},
   "source": [
    "А вот для нахождения корня придется совершить небольшую магию\n",
    "\n",
    "Добрые дяди разработчики сделали специальную библиотеку для работы с математикой. Все что нам нужно чтобы заполучить ее к себе в программу - сделать **import**. \n",
    "Эта команда дает вам доступ ко всем ресурсам этой мощной библиотеки"
   ]
  },
  {
   "cell_type": "code",
   "execution_count": 24,
   "metadata": {
    "collapsed": false
   },
   "outputs": [],
   "source": [
    "import math"
   ]
  },
  {
   "cell_type": "code",
   "execution_count": 33,
   "metadata": {
    "collapsed": false
   },
   "outputs": [
    {
     "data": {
      "text/plain": [
       "8.0"
      ]
     },
     "execution_count": 33,
     "metadata": {},
     "output_type": "execute_result"
    }
   ],
   "source": [
    "# Так как сейчас наша переменная a должна быть равна 64, то ее корень получится равен 8\n",
    "math.sqrt(a)"
   ]
  },
  {
   "cell_type": "markdown",
   "metadata": {},
   "source": [
    "Конечно, сейчас нам не нужна вся мощь математики, поэтому давайте возьмем из библиотеки math только функцию нахождения корня. Для этого использем конструкцию **from x import y**"
   ]
  },
  {
   "cell_type": "code",
   "execution_count": 35,
   "metadata": {
    "collapsed": false
   },
   "outputs": [
    {
     "data": {
      "text/plain": [
       "8.0"
      ]
     },
     "execution_count": 35,
     "metadata": {},
     "output_type": "execute_result"
    }
   ],
   "source": [
    "from math import sqrt\n",
    "math.sqrt(a)"
   ]
  },
  {
   "cell_type": "markdown",
   "metadata": {},
   "source": [
    "Но зачем ограничиваться математикой? Давайте импортируем что-нибудь еще"
   ]
  },
  {
   "cell_type": "code",
   "execution_count": 48,
   "metadata": {
    "collapsed": false
   },
   "outputs": [
    {
     "name": "stdout",
     "output_type": "stream",
     "text": [
      "Random number is 0.579225\n",
      "Now it is this time Thu May 26 19:56:57 2016\n"
     ]
    }
   ],
   "source": [
    "from random import random\n",
    "# Как видно из названия, эта библиотека отвечает за случайные числа\n",
    "print(\"Random number is %f\" %random())\n",
    "import time\n",
    "# А эта - за время\n",
    "print(\"Now it is this time %s\" % time.asctime())"
   ]
  },
  {
   "cell_type": "markdown",
   "metadata": {},
   "source": [
    "Теперь поговорим о **print**\n",
    "\n",
    "**print** выводит строку в поток вывода. Штука вида **%x** подставляет строчку справа в **print**.   **x** - это тип этой строчки"
   ]
  },
  {
   "cell_type": "markdown",
   "metadata": {},
   "source": [
    "#### Как это может пригодиться? Все это пригодится для решения вот такого задания.\n",
    "\n",
    "Адам собирает по 1.5 яблок в минуту, А Ева собирает целых 4.5 в минуту. Они начали собирать яблоки, но через четыре минуты\n",
    " прилетел злой змей и отнял у них ровно корень от того что они насобирали яблок. Сколько у них обоих осталось яблок? Вывести ответ через **print**"
   ]
  },
  {
   "cell_type": "markdown",
   "metadata": {},
   "source": [
    "##### Решение:"
   ]
  },
  {
   "cell_type": "code",
   "execution_count": 52,
   "metadata": {
    "collapsed": false
   },
   "outputs": [
    {
     "name": "stdout",
     "output_type": "stream",
     "text": [
      "They get 12.000000 apples\n"
     ]
    }
   ],
   "source": [
    "from math import sqrt\n",
    "adam = 1.5*4\n",
    "eve = 2.5*4\n",
    "all_together = adam+eve\n",
    "# Столько они собрали вместе за три минуты\n",
    "snake = sqrt(all_together)\n",
    "# Столько забрал змей\n",
    "complete_ans = all_together - snake\n",
    "print(\"They get %f apples\" %complete_ans)"
   ]
  },
  {
   "cell_type": "markdown",
   "metadata": {},
   "source": [
    "### Пришло время циклов"
   ]
  },
  {
   "cell_type": "markdown",
   "metadata": {},
   "source": [
    "Итак, все что вам нужно знать - циклы for и while."
   ]
  },
  {
   "cell_type": "code",
   "execution_count": 53,
   "metadata": {
    "collapsed": false
   },
   "outputs": [
    {
     "name": "stdout",
     "output_type": "stream",
     "text": [
      "0\n",
      "1\n",
      "2\n",
      "3\n",
      "4\n"
     ]
    }
   ],
   "source": [
    "# Цикл for выполняется определенное число раз\n",
    "for i in range(5): # Про range и итерации поговорим позже\n",
    "    print(i)"
   ]
  },
  {
   "cell_type": "code",
   "execution_count": 54,
   "metadata": {
    "collapsed": false
   },
   "outputs": [
    {
     "name": "stdout",
     "output_type": "stream",
     "text": [
      "0\n",
      "1\n",
      "2\n",
      "3\n",
      "4\n"
     ]
    }
   ],
   "source": [
    "# Цикл while выполняется пока условие истинно\n",
    "i = 0\n",
    "while i < 5:\n",
    "    print(i)\n",
    "    i += 1\n",
    "    "
   ]
  },
  {
   "cell_type": "markdown",
   "metadata": {},
   "source": [
    "### Условный оператор"
   ]
  },
  {
   "cell_type": "markdown",
   "metadata": {},
   "source": [
    "Проверяет условие, если оно верно, то идет в ветку if, если неверно, то идет в ветку else.\n",
    "В общем случае выглядит вот так:"
   ]
  },
  {
   "cell_type": "code",
   "execution_count": 55,
   "metadata": {
    "collapsed": false
   },
   "outputs": [
    {
     "name": "stdout",
     "output_type": "stream",
     "text": [
      "Nope\n"
     ]
    }
   ],
   "source": [
    "i = 10\n",
    "if i > 12:\n",
    "    print(\"Yes\")\n",
    "else:\n",
    "    print(\"Nope\")"
   ]
  },
  {
   "cell_type": "code",
   "execution_count": 89,
   "metadata": {
    "collapsed": false
   },
   "outputs": [
    {
     "name": "stdout",
     "output_type": "stream",
     "text": [
      ">10\n"
     ]
    }
   ],
   "source": [
    "# Существует очень удобная конструкция с проверкой нескольких условий\n",
    "# Условия проверяются поочередно\n",
    "i = 11\n",
    "if i > 12:\n",
    "    print(\">12\")\n",
    "elif i > 11:\n",
    "    print(\">11\")\n",
    "elif i > 10:\n",
    "    print (\">10\") "
   ]
  },
  {
   "cell_type": "markdown",
   "metadata": {},
   "source": [
    "Вы всегда можете выйти из выполнения цикла с помощью оператора **break** или пропустить текущую итерацию с помощью **continue**"
   ]
  },
  {
   "cell_type": "code",
   "execution_count": 61,
   "metadata": {
    "collapsed": false
   },
   "outputs": [
    {
     "name": "stdout",
     "output_type": "stream",
     "text": [
      "0\n",
      "1\n",
      "2\n",
      "4\n"
     ]
    }
   ],
   "source": [
    "i = 3\n",
    "for i in range(5):\n",
    "    if (i == 3):\n",
    "        continue\n",
    "    print(i)\n",
    "# Здесь мы выпишем все числа от 0 до 4, но пропустим 3, так как на нем выполнится continue"
   ]
  },
  {
   "cell_type": "code",
   "execution_count": 63,
   "metadata": {
    "collapsed": false
   },
   "outputs": [
    {
     "name": "stdout",
     "output_type": "stream",
     "text": [
      "0\n",
      "1\n",
      "2\n"
     ]
    }
   ],
   "source": [
    "i = 3\n",
    "for i in range(5):\n",
    "    if (i == 3):\n",
    "        break\n",
    "    print(i)\n",
    "# А здесь for закончится после обработки 3, так как будет вызван оператор break"
   ]
  },
  {
   "cell_type": "markdown",
   "metadata": {},
   "source": [
    "### Ну все, осталось совсем немного и вы будете мастерами Питона.\n",
    "\n",
    "### Списки и структуры данных\n",
    "\n",
    "#### Нумерация всегда с нуля, не забывайте"
   ]
  },
  {
   "cell_type": "markdown",
   "metadata": {},
   "source": [
    "Список - просто набор элементов. Эти элементы могут быть разными. **list** - задается как [x,y,z]"
   ]
  },
  {
   "cell_type": "code",
   "execution_count": 82,
   "metadata": {
    "collapsed": false
   },
   "outputs": [
    {
     "name": "stdout",
     "output_type": "stream",
     "text": [
      "[1, 2, 3.4, 'Hello', 'world']\n"
     ]
    }
   ],
   "source": [
    "our_list = [1, 2, 3.4, 'Hello', \"world\"]\n",
    "print(our_list)"
   ]
  },
  {
   "cell_type": "code",
   "execution_count": 67,
   "metadata": {
    "collapsed": false
   },
   "outputs": [
    {
     "name": "stdout",
     "output_type": "stream",
     "text": [
      "First element is 1\n"
     ]
    }
   ],
   "source": [
    "# От списка можно получать элементы по индексу\n",
    "print(\"First element is \" + str(our_list[0]))"
   ]
  },
  {
   "cell_type": "code",
   "execution_count": 69,
   "metadata": {
    "collapsed": false
   },
   "outputs": [
    {
     "name": "stdout",
     "output_type": "stream",
     "text": [
      "[2, 3.4, 'Hello']\n"
     ]
    }
   ],
   "source": [
    "# Можно отрезать кусочки (слайсы) листа\n",
    "print(our_list[1:4])"
   ]
  },
  {
   "cell_type": "code",
   "execution_count": 83,
   "metadata": {
    "collapsed": false
   },
   "outputs": [
    {
     "name": "stdout",
     "output_type": "stream",
     "text": [
      "1\n",
      "2\n",
      "3.4\n",
      "Hello\n",
      "world\n"
     ]
    }
   ],
   "source": [
    "# По нему можно итерироваться\n",
    "for i in our_list:\n",
    "    print(i)\n",
    "    \n",
    "# Тот range, который мы использовали- это просто список с частичкой натурального ряда\n",
    "# Например, range(5) - это то же самое, что [0,1,2,3,4] - полуинтервал он 0 до 5."
   ]
  },
  {
   "cell_type": "code",
   "execution_count": 72,
   "metadata": {
    "collapsed": false
   },
   "outputs": [
    {
     "name": "stdout",
     "output_type": "stream",
     "text": [
      "5\n"
     ]
    }
   ],
   "source": [
    "# Несколько функций связаны со списками\n",
    "# Длина списка\n",
    "print(len(our_list))"
   ]
  },
  {
   "cell_type": "code",
   "execution_count": 73,
   "metadata": {
    "collapsed": false
   },
   "outputs": [
    {
     "name": "stdout",
     "output_type": "stream",
     "text": [
      "[1, 2, 3.4, 'Hello', 'world', 'Wazzap']\n"
     ]
    }
   ],
   "source": [
    "# Добавление в конец списка\n",
    "our_list.append('Wazzap')\n",
    "print(our_list)"
   ]
  },
  {
   "cell_type": "code",
   "execution_count": 76,
   "metadata": {
    "collapsed": false
   },
   "outputs": [
    {
     "ename": "TypeError",
     "evalue": "unorderable types: str() < float()",
     "output_type": "error",
     "traceback": [
      "\u001b[1;31m---------------------------------------------------------------------------\u001b[0m",
      "\u001b[1;31mTypeError\u001b[0m                                 Traceback (most recent call last)",
      "\u001b[1;32m<ipython-input-76-17904083f5b2>\u001b[0m in \u001b[0;36m<module>\u001b[1;34m()\u001b[0m\n\u001b[0;32m      1\u001b[0m \u001b[1;31m# Сортировка списка\u001b[0m\u001b[1;33m\u001b[0m\u001b[1;33m\u001b[0m\u001b[0m\n\u001b[1;32m----> 2\u001b[1;33m \u001b[0mour_list\u001b[0m\u001b[1;33m.\u001b[0m\u001b[0msort\u001b[0m\u001b[1;33m(\u001b[0m\u001b[1;33m)\u001b[0m\u001b[1;33m\u001b[0m\u001b[0m\n\u001b[0m\u001b[0;32m      3\u001b[0m \u001b[1;31m# Она не работает сейчас потому что питон не может сравнить число и строку\u001b[0m\u001b[1;33m\u001b[0m\u001b[1;33m\u001b[0m\u001b[0m\n",
      "\u001b[1;31mTypeError\u001b[0m: unorderable types: str() < float()"
     ]
    }
   ],
   "source": [
    "# Сортировка списка\n",
    "our_list.sort()\n",
    "# Она не работает сейчас потому что питон не может сравнить число и строку"
   ]
  },
  {
   "cell_type": "code",
   "execution_count": 77,
   "metadata": {
    "collapsed": false
   },
   "outputs": [
    {
     "name": "stdout",
     "output_type": "stream",
     "text": [
      "[2.4, 4, 6, 6.6, 10]\n"
     ]
    }
   ],
   "source": [
    "# создадим еще один список\n",
    "l = [10, 4, 6, 2.4, 6.6]\n",
    "l.sort()\n",
    "print(l)"
   ]
  },
  {
   "cell_type": "markdown",
   "metadata": {},
   "source": [
    "Кроме списков в питоне есть куча других структур, такие как **set()**, **tuple** и куча других. Вы даже сможете написать свою структурку и радоваться"
   ]
  },
  {
   "cell_type": "markdown",
   "metadata": {},
   "source": [
    "#### Стоит сказать про одну штуку\n",
    "\n",
    "Давайте попробуем создать список a и скопировать его в список b"
   ]
  },
  {
   "cell_type": "code",
   "execution_count": 78,
   "metadata": {
    "collapsed": true
   },
   "outputs": [],
   "source": [
    "a = [1,2,3,4,5]\n",
    "b = a\n",
    "b[0] = 1000"
   ]
  },
  {
   "cell_type": "code",
   "execution_count": 79,
   "metadata": {
    "collapsed": false
   },
   "outputs": [
    {
     "name": "stdout",
     "output_type": "stream",
     "text": [
      "[1000, 2, 3, 4, 5]\n",
      "[1000, 2, 3, 4, 5]\n"
     ]
    }
   ],
   "source": [
    "# Вроде все хорошо\n",
    "# Но сейчас!\n",
    "print(a)\n",
    "print(b)"
   ]
  },
  {
   "cell_type": "markdown",
   "metadata": {},
   "source": [
    "###### Странно, мы же не меняли a. А он изменился. Почему?\n",
    "\n",
    "### Потому что все в питоне - ссылки. И когда мы делаем b = a, мы просто говорим, что b - указывает на a.\n",
    "\n",
    "Это не работает с простыми числами, потому что они - слишком простые для этого\n",
    "\n",
    "Чтобы скопировать как мы и хотели, делаем вот так:"
   ]
  },
  {
   "cell_type": "code",
   "execution_count": 81,
   "metadata": {
    "collapsed": false
   },
   "outputs": [
    {
     "name": "stdout",
     "output_type": "stream",
     "text": [
      "[1, 2, 3, 4, 5]\n",
      "[10000, 2, 3, 4, 5]\n"
     ]
    }
   ],
   "source": [
    "a = [1,2,3,4,5]\n",
    "b = a[:] # Мы как бы копируем в b срез a, но срез от начала и до конца\n",
    "b[0] = 10000\n",
    "print(a)\n",
    "print(b)"
   ]
  },
  {
   "cell_type": "markdown",
   "metadata": {},
   "source": [
    "### Ну что, пришло время для простой задачи. \n",
    "\n",
    "Мефодий записывает на бесконечную доску числа Фибоначчи. Но если это число делится на 3, то его подруга Дафна забирает его к себе на доску(То есть у Мефодия на доске этого числа не появится).\n",
    "\n",
    "Всего таким образом Мефодий и Дафна записали 30 чисел Фиббоначи.\n",
    "\n",
    "Требуется от**print**ить числа, которые записал Мефодий и числа которые записала Дафна."
   ]
  },
  {
   "cell_type": "markdown",
   "metadata": {},
   "source": [
    "#### Решение:"
   ]
  },
  {
   "cell_type": "code",
   "execution_count": 84,
   "metadata": {
    "collapsed": false
   },
   "outputs": [
    {
     "name": "stdout",
     "output_type": "stream",
     "text": [
      "[2, 5, 8, 13, 34, 55, 89, 233, 377, 610, 1597, 2584, 4181, 10946, 17711, 28657, 75025, 121393, 196418, 514229, 832040]\n",
      "[3, 21, 144, 987, 6765, 46368, 317811]\n"
     ]
    }
   ],
   "source": [
    "mefod = []\n",
    "dafna = []\n",
    "n1 = 1 # Первое число Фибоначчи\n",
    "n2 = 1 # Второе число \n",
    "for i in range(28):\n",
    "    temp = n2\n",
    "    n2 += n1\n",
    "    n1 = temp\n",
    "    if n2%3 == 0:\n",
    "        dafna.append(n2)\n",
    "    else:\n",
    "        mefod.append(n2)\n",
    "print(mefod)\n",
    "print(dafna)"
   ]
  },
  {
   "cell_type": "markdown",
   "metadata": {},
   "source": [
    "#### Считать число a с клавиатуры\n",
    "a = **input** "
   ]
  },
  {
   "cell_type": "code",
   "execution_count": 85,
   "metadata": {
    "collapsed": false
   },
   "outputs": [
    {
     "name": "stdout",
     "output_type": "stream",
     "text": [
      "10\n",
      "10\n"
     ]
    }
   ],
   "source": [
    "a = input()\n",
    "print(a)"
   ]
  },
  {
   "cell_type": "markdown",
   "metadata": {},
   "source": [
    "## Функции\n",
    "\n",
    "Функции очень сильно упростят вам жизнь. Например, если вы много где используете один и тот же код, выносите его в функцию и радуйтесь.\n",
    "\n",
    "Функции в питоне устроены очень просто, укажите **def**, название и входные значения."
   ]
  },
  {
   "cell_type": "code",
   "execution_count": 87,
   "metadata": {
    "collapsed": false
   },
   "outputs": [
    {
     "name": "stdout",
     "output_type": "stream",
     "text": [
      "Hello Hello \n"
     ]
    }
   ],
   "source": [
    "def some_function(word): # Внутри скобок указывается входное значение\n",
    "    pass\n",
    "    pass # pass ничего не делает. Питон просто пропускает его\n",
    "    pass\n",
    "    return(word*2) # return - возвращает нам итог работы функции.\n",
    "\n",
    "# Давайте сейчас вызовем эту функцию.\n",
    "a = some_function(\"Hello \") # Внутри скобок входное значение \n",
    "# Теперь a - это то, что нам вывела эта функция\n",
    "print(a)"
   ]
  },
  {
   "cell_type": "markdown",
   "metadata": {},
   "source": [
    "#### Не забывайте про отступы, отступы очень важны в питоне, они отделяют блоки выполнения. (begin, end)"
   ]
  },
  {
   "cell_type": "markdown",
   "metadata": {},
   "source": [
    "# Задачи:"
   ]
  },
  {
   "cell_type": "markdown",
   "metadata": {},
   "source": [
    "#### Задача 1.\n",
    "Считать числа a, d и N. Найти сумму первых N членов арифметической прогрессии с первым членом a и разностью d. Вывести список, состоящий из этих элементов.\n",
    "\n",
    "#### Задача 2.\n",
    "Считать n. Найти первые n простых чисел.\n",
    "\n",
    "#### Задача 3.\n",
    "Считать n, m, z. Найти первые n чисел, чьи остатки от деления на m делятся на z\n",
    "\n",
    "#### Задача 4.\n",
    "Написать функцию, которая находит сумму кубов натурального ряда, а затем вычитает из нее сумму квадратов натурального ряда вдвое большей длины.\n",
    "\n",
    "#### Задача 5.\n",
    "Сделать задачу 4, но не с натуральным рядом, а с гармоническим. Гармонический ряд = 1 + 1/2 + 1/3 .... + 1/n"
   ]
  },
  {
   "cell_type": "code",
   "execution_count": null,
   "metadata": {
    "collapsed": true
   },
   "outputs": [],
   "source": []
  }
 ],
 "metadata": {
  "kernelspec": {
   "display_name": "Python 3",
   "language": "python",
   "name": "python3"
  },
  "language_info": {
   "codemirror_mode": {
    "name": "ipython",
    "version": 3
   },
   "file_extension": ".py",
   "mimetype": "text/x-python",
   "name": "python",
   "nbconvert_exporter": "python",
   "pygments_lexer": "ipython3",
   "version": "3.5.1"
  }
 },
 "nbformat": 4,
 "nbformat_minor": 0
}
