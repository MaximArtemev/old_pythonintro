{
 "cells": [
  {
   "cell_type": "markdown",
   "metadata": {},
   "source": [
    "### Пришло время опробовать наши навыки на настоящей бактерии\n",
    "\n",
    "** Vibrio cholerae - бактерия, которая вызывает холеру. Посмотрите какая красавица. **\n",
    "![image](https://upload.wikimedia.org/wikipedia/commons/thumb/f/f6/Vibrio_cholerae.jpg/1024px-Vibrio_cholerae.jpg)\n",
    "\n",
    "Нам нужно найти ее репродуктивный центр и узнать как он выглядит. Логично, что если какой-то кусочек цепочки повторяется кучу раз, то он и является важнейшей частью клетки, репродуктивной системой. Поэтому вот задание. Оно похоже на предущее, но отличие в том, что вам придется работать с большой реальной бактерией.\n",
    "\n",
    "** Задание 1 **\n",
    "\n",
    "\n",
    "###### Входные данные\n",
    "Бактерия Vibrio cholerae, которая лежит в файле vibriocholerae.txt\n",
    "\n",
    "###### Вывод:\n",
    "Индексы вхождений подстроки ** S  = ATGATCAAG ** в цепочке бактерии и общее число вхождений.\n",
    "\n",
    "Затем вывести то же самое, но для обратного дополнения строки ** S **\n",
    "\n",
    "\n",
    "*Если вы выведете все в красивые функции, это будет очень круто*"
   ]
  },
  {
   "cell_type": "code",
   "execution_count": null,
   "metadata": {
    "collapsed": true
   },
   "outputs": [],
   "source": []
  }
 ],
 "metadata": {
  "kernelspec": {
   "display_name": "Python 3",
   "language": "python",
   "name": "python3"
  },
  "language_info": {
   "codemirror_mode": {
    "name": "ipython",
    "version": 3
   },
   "file_extension": ".py",
   "mimetype": "text/x-python",
   "name": "python",
   "nbconvert_exporter": "python",
   "pygments_lexer": "ipython3",
   "version": "3.5.1"
  }
 },
 "nbformat": 4,
 "nbformat_minor": 0
}
