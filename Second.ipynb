{
 "cells": [
  {
   "cell_type": "markdown",
   "metadata": {},
   "source": [
    "Деление клетки - одна из самый важных штук в ее жизни. Само по себе деление происходит примерно вооот так:\n",
    "\n",
    "![title](http://bioinformaticsalgorithms.com/images/Replication/semiconservative_replication.png)\n",
    "\n",
    "Разумеется, это очень наивное представление, но нам оно подойдет"
   ]
  },
  {
   "cell_type": "markdown",
   "metadata": {},
   "source": [
    "Но откуда клетка узнает, где начинать делиться? Внутри клетки есть \"скрытое сообщение\", которое говорит, что нужно начинать делиться здесь. Вопрос только в том, как найти где находится это сообщение, когда мы не знаем, где оно находится. Это подводит нас к проблеме \n",
    "** \"Скрытого сообщения\" **\n",
    "\n",
    "Например посмотрим на цепочку ** ACAACTATGCATACTATCGGGAACTATCCT **. Заметно, что подцепочка ** ACTAT ** встречается удивляюще часто (целых три раза). Введем парочку определений. Назовем **К-мерой ** - строчку длины К. Назовем частотой ** К-меры ** собственно частоту с которой эта строчка длины К встречается в цепочке.\n",
    "\n",
    "То есть частота К-меры длины 5 - ** ACTAT ** в цепочке ** ACAACTATGCATACTATCGGGAACTATCCT ** равна трем.\n",
    "\n",
    "Логично, что есть подцепочка встречается очень часто, то именно ее мы ищем.\n",
    "\n",
    "Поэтому \n",
    "##### Задание 1\n",
    "\n",
    "###### Входные данные:  \n",
    "**S** = Строчка 4 в файле input.txt\n",
    "\n",
    "**K** = Строчка 5 в файле input.txt\n",
    "\n",
    "###### Вывод: \n",
    "Частота встречаемости **K** в **S**\n"
   ]
  },
  {
   "cell_type": "markdown",
   "metadata": {},
   "source": [
    "###### Задание 2 \n",
    "\n",
    "###### Входные данные:  \n",
    "** S ** = строка 6 в файле input.txt\n",
    "\n",
    "###### Вывод: \n",
    "Найти самую частую ** K-меру **"
   ]
  },
  {
   "cell_type": "markdown",
   "metadata": {},
   "source": [
    "##### Задание 3\n",
    "\n",
    "###### Входные данные: \n",
    "** S ** = строка 7 в файле input.txt\n",
    "** N ** = число\n",
    "\n",
    "###### Вывод:\n",
    "Вывести самые частые **K-меры** для каждого K от 1 до **N**"
   ]
  },
  {
   "cell_type": "code",
   "execution_count": null,
   "metadata": {
    "collapsed": true
   },
   "outputs": [],
   "source": []
  }
 ],
 "metadata": {
  "kernelspec": {
   "display_name": "Python 3",
   "language": "python",
   "name": "python3"
  },
  "language_info": {
   "codemirror_mode": {
    "name": "ipython",
    "version": 3
   },
   "file_extension": ".py",
   "mimetype": "text/x-python",
   "name": "python",
   "nbconvert_exporter": "python",
   "pygments_lexer": "ipython3",
   "version": "3.5.1"
  }
 },
 "nbformat": 4,
 "nbformat_minor": 0
}
