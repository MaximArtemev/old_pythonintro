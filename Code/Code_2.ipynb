{
 "cells": [
  {
   "cell_type": "code",
   "execution_count": 12,
   "metadata": {
    "collapsed": false
   },
   "outputs": [
    {
     "name": "stdout",
     "output_type": "stream",
     "text": [
      "7\n"
     ]
    }
   ],
   "source": [
    "# Подстрока в строке\n",
    "s = open('input.txt', 'r').read().split()\n",
    "genome = s[0].strip()\n",
    "thing = s[1].strip()\n",
    "count = 0\n",
    "for i in range(len(genome) - len(thing)):\n",
    "    if thing == genome[i:i + len(thing)]:\n",
    "        count += 1\n",
    "print(count)"
   ]
  },
  {
   "cell_type": "code",
   "execution_count": 21,
   "metadata": {
    "collapsed": false
   },
   "outputs": [
    {
     "name": "stdout",
     "output_type": "stream",
     "text": [
      "GTTTACTTA\n"
     ]
    }
   ],
   "source": [
    "# Найти самую частую строку длины n\n",
    "s = open('input.txt', 'r').read().split()\n",
    "genome = s[0].strip()\n",
    "n = int(s[1].strip())\n",
    "collection = dict()\n",
    "for i in range(len(genome) - n):\n",
    "    if genome[i:i+n] in collection:\n",
    "        collection[genome[i:i+n]] += 1\n",
    "    else:\n",
    "        collection[genome[i:i+n]] = 1\n",
    "max = 0\n",
    "max_genome = ''\n",
    "for i in collection:\n",
    "    if collection[i] > max:\n",
    "        max = collection[i]\n",
    "        max_genome = i\n",
    "print(max_genome)"
   ]
  },
  {
   "cell_type": "code",
   "execution_count": 19,
   "metadata": {
    "collapsed": false
   },
   "outputs": [
    {
     "name": "stdout",
     "output_type": "stream",
     "text": [
      "\n",
      "T\n",
      "TT\n",
      "TTA\n",
      "TTTA\n",
      "TACTT\n",
      "TACTTA\n",
      "TCAAAAT\n",
      "TCAAAATG\n",
      "GTTTACTTA\n"
     ]
    }
   ],
   "source": [
    "# Найти частейшие подстроки длины от 1 до n\n",
    "# Вынесем предыдущее задание в функцию.\n",
    "s = open('input.txt', 'r').read().split()\n",
    "genome = s[0].strip()\n",
    "n = int(s[1].strip())\n",
    "def find(n):\n",
    "    collection = dict()\n",
    "    for i in range(len(genome) - n):\n",
    "        if genome[i:i+n] in collection:\n",
    "            collection[genome[i:i+n]] += 1\n",
    "        else:\n",
    "            collection[genome[i:i+n]] = 1\n",
    "    max = 0\n",
    "    max_genome = ''\n",
    "    for i in collection:\n",
    "        if collection[i] > max:\n",
    "            max = collection[i]\n",
    "            max_genome = i\n",
    "    return max_genome\n",
    "for i in range(n):\n",
    "    print(find(i))"
   ]
  },
  {
   "cell_type": "code",
   "execution_count": null,
   "metadata": {
    "collapsed": true
   },
   "outputs": [],
   "source": []
  }
 ],
 "metadata": {
  "kernelspec": {
   "display_name": "Python 3",
   "language": "python",
   "name": "python3"
  },
  "language_info": {
   "codemirror_mode": {
    "name": "ipython",
    "version": 3
   },
   "file_extension": ".py",
   "mimetype": "text/x-python",
   "name": "python",
   "nbconvert_exporter": "python",
   "pygments_lexer": "ipython3",
   "version": "3.5.2"
  }
 },
 "nbformat": 4,
 "nbformat_minor": 0
}
