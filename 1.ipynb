{
 "cells": [
  {
   "cell_type": "markdown",
   "metadata": {},
   "source": [
    "#### Несколько задачек связанных с биоинформатикой ####\n"
   ]
  },
  {
   "cell_type": "markdown",
   "metadata": {},
   "source": [
    "Рассмотрим ДНК. Как мы все знаем, там встречается четыре вида азотистых оснований, \n",
    "   \n",
    "   ** аденин(A), **\n",
     "![Image of 123](https://upload.wikimedia.org/wikipedia/commons/thumb/d/db/Adenine.svg/200px-Adenine.svg.png)\n",
    "   \n",
    "   ** гуанин(G), ** \n",
    "![Image of 123](https://upload.wikimedia.org/wikipedia/commons/thumb/3/3f/Guanin.svg/200px-Guanin.svg.png)\n",
    "   \n",
    "   ** тимин(T),  **\n",
    "![Image of 123](https://upload.wikimedia.org/wikipedia/commons/thumb/e/ef/Thymine_chemical_structure.png/200px-Thymine_chemical_structure.png)\n",
    "   \n",
    "   ** цитозин(C) **\n",
    "![Image of 123](https://upload.wikimedia.org/wikipedia/commons/thumb/8/8b/Cytosine_chemical_structure.svg/194px-Cytosine_chemical_structure.svg.png)\n",
    "\n",
    "Теперь представим саму днк в виде строки, содержащий соответственные буквы ** A, G, T, C. **\n",
    "\n",
    "К примеру, строка s = ** AGCTTTTCA ** будет обозначать ДНК с такой последовательностью азотистых оснований."
   ]
  },
  {
   "cell_type": "markdown",
   "metadata": {},
   "source": [
    "###### Задача 1\n",
    "\n",
    "######   Необходимо посчитать число вхождений каждого основания в заданной ДНК.\n",
    "\n",
    "** Входные данные: ** 1.1.\n",
    "\n",
    "** Вывод ** Число вхождения символов A, G, T, C в заданной строке."
   ]
  },
  {
   "cell_type": "markdown",
   "metadata": {},
   "source": [
    "###### Задача 2\n",
    "\n",
    "У нас есть строка ДНК, необходимо перевести ее в строку РНК. Пока что, все что нам нужно знать о РНК, это то, что там нет ** Тимина (T) **, а есть ** Урацил (U) **. Поэтому, чтобы превратить ДНК в РНК, нужно заменить все ** T ** на ** U **. \n",
    "\n",
    "Поставим задачу 2.\n",
    "\n",
    "** Входные данные: ** 1.2.\n",
    "\n",
    "** Вывод: ** Строка идентичная данной, но все вхождения **T** заменены на **U**\n",
    "\n",
    "** Подсказка ** В python строки не редактируются, поэтому придется придумать что-то другое"
   ]
  },
  {
   "cell_type": "markdown",
   "metadata": {},
   "source": [
    "###### Задача 3\n",
    "\n",
    "Сначала узнаем про комплиментарность\n",
    "\n",
    "** A ** комплиментарно ** T ** и наоборот.\n",
    "\n",
    "** G ** комплиментарно ** C ** и наоборот.\n",
    "\n",
    "Необходимо найти обратное дополнение к ДНК. Обратное дополнение это перевернутая строка, где каждому элементу сопоставлен комплиментарный. Вот пример:\n",
    "![Image of 123](http://rosalind.info/media/reverse_complement.png)\n",
    "\n",
    "** Входные данные: ** 1.3.\n",
    "\n",
    "** Вывод: ** Обратное дополнение к этой строке.\n",
    "\n",
    "** Подсказка ** В срезах строчки можно задавать третий аргумент, это шаг выбора. То есть s[1:10:2] - будет включать в себя каждый второй элемент от 1 до 10. А s[::-3] - просто каждый третий с конца"
   ]
  },
  {
   "cell_type": "code",
   "execution_count": null,
   "metadata": {
    "collapsed": true
   },
   "outputs": [],
   "source": []
  }
 ],
 "metadata": {
  "kernelspec": {
   "display_name": "Python 3",
   "language": "python",
   "name": "python3"
  },
  "language_info": {
   "codemirror_mode": {
    "name": "ipython",
    "version": 3
   },
   "file_extension": ".py",
   "mimetype": "text/x-python",
   "name": "python",
   "nbconvert_exporter": "python",
   "pygments_lexer": "ipython3",
   "version": "3.5.1"
  }
 },
 "nbformat": 4,
 "nbformat_minor": 0
}
