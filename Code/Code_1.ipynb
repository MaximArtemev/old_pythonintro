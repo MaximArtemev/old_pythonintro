{
 "cells": [
  {
   "cell_type": "code",
   "execution_count": 1,
   "metadata": {
    "collapsed": false
   },
   "outputs": [
    {
     "name": "stdout",
     "output_type": "stream",
     "text": [
      "254\n",
      "244\n",
      "246\n",
      "238\n"
     ]
    }
   ],
   "source": [
    "# Посчитать число каждого основания в строке\n",
    "s = open('input.txt', 'r').read().strip()\n",
    "A = 0\n",
    "G = 0\n",
    "T = 0\n",
    "C = 0\n",
    "for symbol in s:\n",
    "    if symbol == 'A':\n",
    "        A += 1\n",
    "    if symbol == 'G':\n",
    "        G += 1\n",
    "    if symbol == 'T':\n",
    "        T += 1\n",
    "    if symbol == 'C':\n",
    "        C += 1\n",
    "print(A)\n",
    "print(G)\n",
    "print(T)\n",
    "print(C)"
   ]
  },
  {
   "cell_type": "code",
   "execution_count": 4,
   "metadata": {
    "collapsed": false
   },
   "outputs": [
    {
     "name": "stdout",
     "output_type": "stream",
     "text": [
      "UGAGGGCUAGAAUGCCUAUAGUCAUUGCUCGAAACCGGUUUACACCUACCUAUUUUAGAGGUAAUGUCCCGAACUCGGAGCAGAUAUACGAAGGAAUUCUACGCUGGCCCUCGUUGAGUCCGUUUAGAUCUUUCCACCACUGCGAAGAUUGGGUACACGUGGCCUAUGUGACCCAUAUUGAUCUACCUUUGAGUGGUUCUACUCCAUUCGUCGUCUCUCUCGAUCCGGUCUGGGUACACUUUUGUUUAGGCUGGGGGCAGCUGGGCUAAUAUAAAGUGUAUCCCUACGGCUUUAUGGCAGUUCGCCAAUCCUAAUGCAUACGAGACCCAACAGCGGAUAUCAAGAGAAGGCUCCUUCUUGUCUCUCUGAGGCCCGUUUUAAAGACGUUCUGAAACUGAGAUGUCAGAGCGUCGUUGUAUUCAUGCACUCCAGGCGCUCACUUACCCGCGCUAAAGCACCAAGGAGGUAUCGACGAGAGACUCCACUCUAAUGGCAUCCUUGUUUCGUUGCGACAUAUCGCGGCGAUUCGAGGUUUCUUUGUCGCGCUCGGCCUAUUUUUGUUGAAUUCACGAUCUUGACAUAGGGGUGAGAUCGUCAUGCGUGGAGAAUUAUGCUAACUACAGCUAAAACAGCGGAGAAGGCCUAAAUGAGUCGCGGAAGCAGUGGCAUCAUGCGUGGGCCCACAAUUGCUGGGGAACGAGCCCAGCCUUUCUUCAUCCUCGUACACCCUGGUCCGGCAGUCCGUAAAAAGUUUACCGAGCUUUUUAUAAUACCUUGUCAUAGCUAAACUCGAAGGCUGGGAGAUUCUGGGCUGGCAAUAGGUCUGAUUCCUUUAUACUAGGCAUUUGUCAUAAGCAGGACGGCAUUUCCGUAAUCCAAUAAUUCCCGGGAUGACUCCAGUUCAUGAUGAUUUAUUUAGACUCGCC\n"
     ]
    }
   ],
   "source": [
    "# Заменить все \"T\" на \"U\"\n",
    "s = open('input.txt', 'r').read().strip()\n",
    "new_s = ''\n",
    "for symbol in s:\n",
    "    if symbol == 'T':\n",
    "        new_s += 'U'\n",
    "    else:\n",
    "        new_s += symbol\n",
    "print(new_s)"
   ]
  },
  {
   "cell_type": "code",
   "execution_count": 6,
   "metadata": {
    "collapsed": false
   },
   "outputs": [
    {
     "name": "stdout",
     "output_type": "stream",
     "text": [
      "AGTTTTATTCGTATGGGCCTTAGCGTTAGACAATTCCCCTTCAAACTGCCCAACGAGCTTACCGTATTAATCCGTTCTAGTTTCCACCATTAAGGAGAACGGGACCCTCCCTCGCTGCACCCAGTAAGGACGTGTGTATCACGAGTCACCCATACATATGGCGCGTTTATACAGCTTAGGCAACAACTTAGGCAGTCCGGTCGCATGTTAGCCACTGACTGGAACGCACGTTACGAGGATTCACGAAGCACACAGCAGCAGGACTCACGGCGAGTAAAAGCGATTCGAAGGAGCAGCCACATAAACTTGTTTGGCCGTTATATCTCAAGCTTGATGACTAGTGAAGGACTATGAATGAAAAAATCTGGCCCGGGAGGTCGTTTTCAGAATTATGTTTGCCGATGGCGTGGTCACAGCATCGTCTCTCTGCGGATCCCCCAAATTCTAGCTATGAACACATCGGCATTGGGCTAGCAAACGGCGGCACCGCAGCTTTTTCGTCAAGGTTATTGGACTACCTATAGTGTTGGTATCCTGCAATTTGGGTGCAGTGTACGAGCGCATTGTTTCGAAGATCATTGAATCGTAAGGGTAATTACATAGGAGGGAGCTATGGTGGGTACGCTTGATGCCTGGGGGTTGCGCTCCACGTGCCCCAAGCGCCGGCAATCTATGCGCATGACTATTTAGTGCGAGGCCTAAAGATGAAATAAAAGAAAGGAGGCGTGATTACTCTCAGCATGGGATACTTTTTGGACCTGCAATTACAACTTTGCTTGATCTTTGAGAGGTATACTAAGGCAGGTCAATGTCTACTTTTGCTGCCTCGTTTCGTTCCTAATGTCTTTTTCCTCACAATGTCAGATAATAGACACAGCCGTGGGCGAGAGTGTCCCCACGACGCAAAGCTAATGGTACACCGATGCAGGCGAACC\n"
     ]
    }
   ],
   "source": [
    "#Обратная комплиментарность\n",
    "s = open('input.txt', 'r').read().strip()\n",
    "new_s = ''\n",
    "for symbol in s[::-1]: # Читаем строку с конца\n",
    "    if symbol == 'A':\n",
    "        new_s += 'T'\n",
    "    elif symbol == 'T':\n",
    "        new_s += 'A'\n",
    "    elif symbol == 'C':\n",
    "        new_s += 'G'\n",
    "    elif symbol == 'G':\n",
    "        new_s += 'C'\n",
    "print(new_s)"
   ]
  },
  {
   "cell_type": "code",
   "execution_count": null,
   "metadata": {
    "collapsed": true
   },
   "outputs": [],
   "source": []
  }
 ],
 "metadata": {
  "kernelspec": {
   "display_name": "Python 3",
   "language": "python",
   "name": "python3"
  },
  "language_info": {
   "codemirror_mode": {
    "name": "ipython",
    "version": 3
   },
   "file_extension": ".py",
   "mimetype": "text/x-python",
   "name": "python",
   "nbconvert_exporter": "python",
   "pygments_lexer": "ipython3",
   "version": "3.5.2"
  }
 },
 "nbformat": 4,
 "nbformat_minor": 0
}
