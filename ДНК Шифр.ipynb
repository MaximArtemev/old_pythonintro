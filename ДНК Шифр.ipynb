{
 "cells": [
  {
   "cell_type": "markdown",
   "metadata": {},
   "source": [
    "### Теперь ничего серьезного\n",
    "\n",
    "##### Просто поиграемся с шифрованием\n",
    "\n",
    "\n",
    "###### Это милая молекула гемоглобина\n",
    "![hemoglob](http://rosalind.info/media/problems/prot/haemoglobin.thumb.png)\n",
    "\n",
    "###### Она состоит из полипептидов, которые состоят из протеинов\n",
    "\n",
    "###### Про протеины мы и поговорим"
   ]
  },
  {
   "cell_type": "markdown",
   "metadata": {},
   "source": [
    "** Протеины ** - это цепочки из аминокислот. Выделено около 20 очень часто повторяющихся аминокислот ![acids](http://ejonok.ru/nature/biology/big/17.jpg)\n",
    "\n",
    "Но это нам знать сейчас не обязательно. Важно знать, что можно представить строчку РНК в виде набора аминокислот. А сам набор аминокислот задаст нам молекулу протеина. То есть зная РНК, мы можем показать как выглядит молекула протеина.\n",
    "\n",
    "Вот так выглядит таблица перехода ![tr](http://www.imageup.ru/img125/2485243/zz.png?nc)"
   ]
  },
  {
   "cell_type": "markdown",
   "metadata": {},
   "source": [
    "### Теперь про саму задачу:\n",
    "\n",
    "Есть строка РНК. Нужно преобразовать ее к протеиновому виду.\n",
    "\n",
    "Например, есть строка 'AUUUUGAUUAAAGAACCGAGAACCGAAAUUAACUCC'. В результате расшифровки мы получим строку \"ILIKEPRTEINS\""
   ]
  },
  {
   "cell_type": "markdown",
   "metadata": {},
   "source": [
    "###### Еще было бы интересно сделать обратный преобразователь. \n",
    "\n",
    "То есть получать на вход нормальное(ну почти) слово и выдавать строку ДНК\n",
    "\n",
    "Так вы сможете зашифровать любую строчку в ДНК.\n",
    "\n",
    "Можете с друзьями обмениваться ДНК строками и никакой ФСБшник вас не расшифрует"
   ]
  },
  {
   "cell_type": "code",
   "execution_count": null,
   "metadata": {
    "collapsed": true
   },
   "outputs": [],
   "source": []
  }
 ],
 "metadata": {
  "kernelspec": {
   "display_name": "Python 3",
   "language": "python",
   "name": "python3"
  },
  "language_info": {
   "codemirror_mode": {
    "name": "ipython",
    "version": 3
   },
   "file_extension": ".py",
   "mimetype": "text/x-python",
   "name": "python",
   "nbconvert_exporter": "python",
   "pygments_lexer": "ipython3",
   "version": "3.5.2"
  }
 },
 "nbformat": 4,
 "nbformat_minor": 0
}
