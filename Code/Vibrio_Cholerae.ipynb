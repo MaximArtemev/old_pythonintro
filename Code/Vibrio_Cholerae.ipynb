{
 "cells": [
  {
   "cell_type": "code",
   "execution_count": 5,
   "metadata": {
    "collapsed": false
   },
   "outputs": [
    {
     "name": "stdout",
     "output_type": "stream",
     "text": [
      "116556\n",
      "149355\n",
      "151913\n",
      "152013\n",
      "152394\n",
      "186189\n",
      "194276\n",
      "200076\n",
      "224527\n",
      "307692\n",
      "479770\n",
      "610980\n",
      "653338\n",
      "679985\n",
      "768828\n",
      "878903\n",
      "985368\n",
      "-------------------------------\n",
      "42686\n",
      "485486\n",
      "508156\n",
      "575306\n",
      "715518\n",
      "731470\n",
      "750265\n",
      "908081\n",
      "911213\n",
      "945034\n",
      "955830\n",
      "955887\n",
      "955958\n",
      "979052\n",
      "1009832\n",
      "1048202\n",
      "END\n"
     ]
    }
   ],
   "source": [
    "# Выпишем код из старых заданий\n",
    "genome = open('input.txt', 'r').read().strip()\n",
    "thing = 'ATGATCAAG'\n",
    "\n",
    "def reverse(s):\n",
    "    new_s = ''\n",
    "    for symbol in s[::-1]: # Читаем строку с конца\n",
    "        if symbol == 'A':\n",
    "            new_s += 'T'\n",
    "        elif symbol == 'T':\n",
    "            new_s += 'A'\n",
    "        elif symbol == 'C':\n",
    "            new_s += 'G'\n",
    "        elif symbol == 'G':\n",
    "            new_s += 'C'\n",
    "    return new_s\n",
    "\n",
    "\n",
    "def find(genome, thing):\n",
    "    for i in range(len(genome) - len(thing)):\n",
    "        if thing == genome[i:i + len(thing)]:\n",
    "            print(i)\n",
    "    return\n",
    "\n",
    "\n",
    "find(genome, thing)\n",
    "print('-------------------------------')\n",
    "find(reverse(genome), thing)\n",
    "print('END')"
   ]
  },
  {
   "cell_type": "code",
   "execution_count": null,
   "metadata": {
    "collapsed": true
   },
   "outputs": [],
   "source": []
  }
 ],
 "metadata": {
  "kernelspec": {
   "display_name": "Python 3",
   "language": "python",
   "name": "python3"
  },
  "language_info": {
   "codemirror_mode": {
    "name": "ipython",
    "version": 3
   },
   "file_extension": ".py",
   "mimetype": "text/x-python",
   "name": "python",
   "nbconvert_exporter": "python",
   "pygments_lexer": "ipython3",
   "version": "3.5.2"
  }
 },
 "nbformat": 4,
 "nbformat_minor": 0
}
